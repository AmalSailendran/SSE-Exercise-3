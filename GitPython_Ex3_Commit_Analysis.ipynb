{
 "cells": [
  {
   "cell_type": "markdown",
   "metadata": {},
   "source": [
    "# Amal Sailendran, A1783111"
   ]
  },
  {
   "cell_type": "markdown",
   "metadata": {},
   "source": [
    "# 1.\tCVE-ID - CVE-2012-1621\n",
    "# 2.\tProject Link: https://github.com/apache/ofbiz \n",
    "# 3.\tProvided Fixing Commit - ea604f84e4a21fe081d66bbdab454b1e8a7d09b3 \n"
   ]
  },
  {
   "cell_type": "code",
   "execution_count": 1,
   "metadata": {},
   "outputs": [],
   "source": [
    "import numpy as np\n",
    "import pandas as pd\n",
    "import os\n",
    "import re\n",
    "# Specify git executable file for GitPython in Jupyter Notebook (In IDE, it can still work without this line.)\n",
    "os.environ[\"GIT_PYTHON_REFRESH\"] = \"quiet\"\n",
    "\n",
    "import git\n",
    "from git import RemoteProgress\n",
    "\n",
    "from git import Repo\n",
    "import matplotlib.pyplot as plt\n",
    "import seaborn as sns\n",
    "%matplotlib inline"
   ]
  },
  {
   "cell_type": "code",
   "execution_count": 2,
   "metadata": {},
   "outputs": [],
   "source": [
    "repo = Repo(\"ofbiz/\")\n",
    "fixingCommit=\"0fb6afa1b645c9d1c03e53f21436680b00e2e1af\"\n",
    "previous = fixingCommit + '^'"
   ]
  },
  {
   "cell_type": "markdown",
   "metadata": {},
   "source": [
    "# Task ‘a’: What was the message and title of the fixing commit? Was there any mention of fixing a bug or vulnerability?\n"
   ]
  },
  {
   "cell_type": "code",
   "execution_count": 3,
   "metadata": {},
   "outputs": [
    {
     "name": "stdout",
     "output_type": "stream",
     "text": [
      "'    add list/map formats'\n"
     ]
    }
   ],
   "source": [
    "import pprint as pprint\n",
    "show_data = repo.git.show(\"-s\", fixingCommit).splitlines()\n",
    "pprint.pprint(show_data[4])"
   ]
  },
  {
   "cell_type": "markdown",
   "metadata": {},
   "source": [
    "# Task ‘b’: How many total files were affected in the fixing commit?\n"
   ]
  },
  {
   "cell_type": "code",
   "execution_count": 4,
   "metadata": {},
   "outputs": [
    {
     "name": "stdout",
     "output_type": "stream",
     "text": [
      "' 1 file changed, 88 insertions(+), 81 deletions(-)'\n"
     ]
    }
   ],
   "source": [
    "import pprint as pprint\n",
    "totalFilesAffected = repo.git.show(\"--stat\", \"0fb6afa1b645c9d1c03e53f21436680b00e2e1af\").splitlines()\n",
    "\n",
    "pprint.pprint(totalFilesAffected[9])"
   ]
  },
  {
   "cell_type": "markdown",
   "metadata": {},
   "source": [
    "# Task ‘c’: How many total directories were affected in the fixing commit?\n"
   ]
  },
  {
   "cell_type": "code",
   "execution_count": 5,
   "metadata": {},
   "outputs": [
    {
     "name": "stdout",
     "output_type": "stream",
     "text": [
      "Directories affected: \n",
      "'1'\n"
     ]
    }
   ],
   "source": [
    "totalDirectoriesAffected = repo.git.show(\"--stat\", \"0fb6afa1b645c9d1c03e53f21436680b00e2e1af\").splitlines()\n",
    "\n",
    "print(\"Directories affected: \")\n",
    "pprint.pprint((totalDirectoriesAffected[-1][1]))"
   ]
  },
  {
   "cell_type": "markdown",
   "metadata": {},
   "source": [
    "# Task 'd': How many total lines of code (including comments and blank lines) were deleted?\n"
   ]
  },
  {
   "cell_type": "code",
   "execution_count": 6,
   "metadata": {},
   "outputs": [
    {
     "name": "stdout",
     "output_type": "stream",
     "text": [
      "'Total lines DELETED including comments and blank lines: , 81 deletion'\n"
     ]
    }
   ],
   "source": [
    "totalLinesDeletedInc = repo.git.show(\"--stat\", \"0fb6afa1b645c9d1c03e53f21436680b00e2e1af\").splitlines()\n",
    "\n",
    "pprint.pprint(\"Total lines DELETED including comments and blank lines: \"+totalLinesDeletedInc[9][33:46])"
   ]
  },
  {
   "cell_type": "markdown",
   "metadata": {},
   "source": [
    "# Task 'e': How many total lines of code (including comments and blank lines) were added?\n"
   ]
  },
  {
   "cell_type": "code",
   "execution_count": 7,
   "metadata": {
    "scrolled": true
   },
   "outputs": [
    {
     "name": "stdout",
     "output_type": "stream",
     "text": [
      "'Total lines ADDED including comments and blank lines: 88 insertions'\n"
     ]
    }
   ],
   "source": [
    "totalLinesAddedInc = repo.git.show(\"--stat\", \"0fb6afa1b645c9d1c03e53f21436680b00e2e1af\").splitlines()\n",
    "\n",
    "pprint.pprint(\"Total lines ADDED including comments and blank lines: \"+totalLinesAddedInc[9][17:30])"
   ]
  },
  {
   "cell_type": "markdown",
   "metadata": {},
   "source": [
    "# Task 'f': How many total lines of code (excluding comments and blank lines) were deleted?\n"
   ]
  },
  {
   "cell_type": "code",
   "execution_count": 8,
   "metadata": {},
   "outputs": [
    {
     "name": "stdout",
     "output_type": "stream",
     "text": [
      "Lines Deleted (excluding comments and blank lines): 80\n"
     ]
    }
   ],
   "source": [
    "def getSum():\n",
    "    getSum.bufferStore=0\n",
    "    for line in deletedLineShowData:\n",
    "        if re.compile('^-$|^-[^-]').match(line):\n",
    "            getSum.bufferStore = getSum.bufferStore+1\n",
    "            if re.compile('^[-|\\+]\\s*\\*').match(line):\n",
    "                getSum.bufferStore = getSum.bufferStore-1\n",
    "            if re.compile('^[-|\\+]\\s*\\/\\/').match(line):\n",
    "                getSum.bufferStore = getSum.bufferStore-1\n",
    "deletedLineShowData = repo.git.diff(\"--ignore-blank-lines\",previous, fixingCommit).splitlines()\n",
    "getSum()\n",
    "print(\"Lines Deleted (excluding comments and blank lines): %d\" %getSum.bufferStore)"
   ]
  },
  {
   "cell_type": "markdown",
   "metadata": {},
   "source": [
    "# Task 'g': How many total lines of code (excluding comments and blank lines) were added?\n"
   ]
  },
  {
   "cell_type": "code",
   "execution_count": 9,
   "metadata": {},
   "outputs": [
    {
     "name": "stdout",
     "output_type": "stream",
     "text": [
      "Lines Added (excluding comments and blank lines): 87\n"
     ]
    }
   ],
   "source": [
    "def getDiff():\n",
    "    getDiff.bufferStore=0\n",
    "    for line in addLineShowData:\n",
    "        if re.compile('^\\+$|^\\+[^\\+]').match(line):\n",
    "            getDiff.bufferStore = getDiff.bufferStore+1\n",
    "            if re.compile('^[-|\\+]\\s*\\*').match(line):\n",
    "                getDiff.bufferStore = getDiff.bufferStore-1\n",
    "            if re.compile('^[-|\\+]\\s*\\/\\/').match(line):\n",
    "                getDiff.bufferStore = getDiff.bufferStore-1\n",
    "addLineShowData = repo.git.diff(\"--ignore-blank-lines\",previous, fixingCommit).splitlines()\n",
    "getDiff()\n",
    "print(\"Lines Added (excluding comments and blank lines): %d\" %getDiff.bufferStore)"
   ]
  },
  {
   "cell_type": "markdown",
   "metadata": {},
   "source": [
    "# Task ‘h’: How many days were between the current fixing commit and the previous commit of each affected file?\n"
   ]
  },
  {
   "cell_type": "code",
   "execution_count": 10,
   "metadata": {},
   "outputs": [],
   "source": [
    "# from datetime import datetime\n",
    "# from datetime import date\n",
    "# DateOfFixingCommit = repo.git.log(\"-1\" ,\"--format=\\\"%ai\\\"\", \"0fb6afa1b645c9d1c03e53f21436680b00e2e1af\",\"--\",\"applications/content/src/org/ofbiz/content/content/ContentWorker.java\").splitlines()\n",
    "# DateOfFixingCommit=DateOfFixingCommit[0][1:11]\n",
    "# DateOfPrevCommit = repo.git.log(\"-1\" ,\"--format=\\\"%ai\\\"\",\"-p\",\"0fb6afa1b645c9d1c03e53f21436680b00e2e1af^\",\"--\",\"applications/content/src/org/ofbiz/content/content/ContentWorker.java\").splitlines()\n",
    "# DateOfPrevCommit=DateOfPrevCommit[0][1:11]\n",
    "# DateOfPrevCommit= datetime.strptime(DateOfPrevCommit,\"%Y-%m-%d\")\n",
    "# DateOfFixingCommit= datetime.strptime(DateOfFixingCommit,\"%Y-%m-%d\")\n",
    "# Days=(DateOfFixingCommit-DateOfPrevCommit).days\n",
    "# print(Days,\"Days\")\n"
   ]
  },
  {
   "cell_type": "markdown",
   "metadata": {},
   "source": [
    "# Task ‘I’: How many time has each affected file of the current fixing commit been modified in the past since their creation (including rename of the file)?\n"
   ]
  },
  {
   "cell_type": "code",
   "execution_count": 11,
   "metadata": {},
   "outputs": [],
   "source": [
    "# Commits=repo.git.log(\"--follow\",\"0fb6afa1b645c9d1c03e53f21436680b00e2e1af\",\"--\",\"applications/content/src/org/ofbiz/content/content/ContentWorker.java\")\n",
    "# print(Commits.count('commit'))"
   ]
  },
  {
   "cell_type": "markdown",
   "metadata": {},
   "source": [
    "# Task ‘j’: Which developers have modified each affected file since its creation?\n"
   ]
  },
  {
   "cell_type": "code",
   "execution_count": 12,
   "metadata": {},
   "outputs": [
    {
     "name": "stdout",
     "output_type": "stream",
     "text": [
      "Author: Andrew Zeneski\n",
      "Author: Adrian Crum\n",
      "Author: Gil Portenseigne\n",
      "Author: Taher A. Alkhateeb\n",
      "Author: Jacques Le Roux\n",
      "Author: Jacopo Cappellato\n",
      "Author: Johannes Cornelius Bakker\n",
      "Author: Scott Gray\n",
      "Author: Sascha Rodekamp\n",
      "Author: David E. Jones\n",
      "Author: Alfred Maxwell Byers\n",
      "Author: Adam Heath\n",
      "Author: Deepak Dixit\n",
      "Author: Marco Risaliti\n",
      "Author: Bilgin Ismet Ibryam\n",
      "Author: Nicolas Malin\n",
      "Author: Erwan de Ferrieres\n"
     ]
    }
   ],
   "source": [
    "fileShowData = repo.git.diff( \"--name-only\", fixingCommit, previous).splitlines()\n",
    "count = 0\n",
    "for line in repo.git.diff(\"--name-only\", fixingCommit, previous).splitlines():\n",
    "    authorData = repo.git.log(\"--follow\", \"--pretty=%aN\", \"--\", line).splitlines()\n",
    "    for author in set(authorData):\n",
    "        print(\"Author: %s\" %author)\n",
    "        count = count + 1;\n",
    "avg = count / len(fileShowData)"
   ]
  },
  {
   "attachments": {},
   "cell_type": "markdown",
   "metadata": {},
   "source": [
    "# Task ‘k’:  \tFor each developer identified, how many commits have each of them submitted? \n"
   ]
  },
  {
   "cell_type": "code",
   "execution_count": 13,
   "metadata": {
    "scrolled": true
   },
   "outputs": [
    {
     "name": "stdout",
     "output_type": "stream",
     "text": [
      " Andrew Zeneski: 686\n",
      " Adrian Crum: 1632\n",
      " Gil Portenseigne: 19\n",
      " Taher A. Alkhateeb: 100\n",
      " Jacques Le Roux: 5571\n",
      " Jacopo Cappellato: 2748\n",
      " Johannes Cornelius Bakker: 2385\n",
      " Scott Gray: 1169\n",
      " Sascha Rodekamp: 220\n",
      " David E. Jones: 1319\n",
      " Alfred Maxwell Byers: 59\n",
      " Adam Heath: 1804\n",
      " Deepak Dixit: 379\n",
      " Marco Risaliti: 829\n",
      " Bilgin Ismet Ibryam: 215\n",
      " Nicolas Malin: 137\n",
      " Erwan de Ferrieres: 689\n"
     ]
    }
   ],
   "source": [
    "allAuthors = []\n",
    "count = 0\n",
    "for line in repo.git.diff(\"--name-only\", fixingCommit, previous).splitlines():\n",
    "    allAuthors += repo.git.log(\"--follow\", \"--pretty=%aN\", \"--\", line).splitlines()\n",
    "allAuthors = list(set(allAuthors))\n",
    "log = repo.git.log(\"--pretty=%aN\")\n",
    "for author in allAuthors:\n",
    "    count = count + 1\n",
    "    print(\" %s: %d\" %(author, len(re.findall(author, log))))"
   ]
  },
  {
   "cell_type": "markdown",
   "metadata": {},
   "source": [
    "# END OF CVE-2012-1621\n",
    "# --------------------------"
   ]
  },
  {
   "cell_type": "markdown",
   "metadata": {},
   "source": [
    "# 1.\tCVE-ID - CVE-2017-15719\n",
    "# 2.\tProject Link: https://github.com/sebfz1/wicket-jquery-ui\n",
    "# 3.\tVCC - a7b9f7961e02e2a801f5031f39e6088b49f71dea\n"
   ]
  },
  {
   "cell_type": "code",
   "execution_count": 14,
   "metadata": {},
   "outputs": [],
   "source": [
    "import numpy as np\n",
    "import pandas as pd\n",
    "import os\n",
    "\n",
    "# Specify git executable file for GitPython in Jupyter Notebook (In IDE, it can still work without this line.)\n",
    "os.environ[\"GIT_PYTHON_REFRESH\"] = \"quiet\"\n",
    "\n",
    "import git\n",
    "from git import RemoteProgress\n",
    "\n",
    "from git import Repo\n",
    "import matplotlib.pyplot as plt\n",
    "import seaborn as sns\n",
    "%matplotlib inline"
   ]
  },
  {
   "cell_type": "code",
   "execution_count": 15,
   "metadata": {},
   "outputs": [],
   "source": [
    "repo = Repo(\"wicket-jquery-ui/\")\n",
    "fixingCommit=\"a7b9f7961e02e2a801f5031f39e6088b49f71dea\"\n",
    "previous = fixingCommit + '^'"
   ]
  },
  {
   "cell_type": "markdown",
   "metadata": {},
   "source": [
    "# Task ‘a’: What was the message and title of the fixing commit? Was there any mention of fixing a bug or vulnerability?\n"
   ]
  },
  {
   "cell_type": "code",
   "execution_count": 16,
   "metadata": {},
   "outputs": [
    {
     "name": "stdout",
     "output_type": "stream",
     "text": [
      "'    Added WysiwygEditor'\n"
     ]
    }
   ],
   "source": [
    "import pprint as pprint\n",
    "show_data = repo.git.show(\"-s\", fixingCommit).splitlines()\n",
    "pprint.pprint(show_data[4])"
   ]
  },
  {
   "cell_type": "markdown",
   "metadata": {},
   "source": [
    "# Task ‘b’: How many total files were affected in the fixing commit?\n"
   ]
  },
  {
   "cell_type": "code",
   "execution_count": 17,
   "metadata": {},
   "outputs": [
    {
     "name": "stdout",
     "output_type": "stream",
     "text": [
      "Directories affected: \n",
      "' 25 files changed, 4478 insertions(+), 2 deletions(-)'\n"
     ]
    }
   ],
   "source": [
    "import pprint as pprint\n",
    "totalDirectoriesAffected = repo.git.show(\"--stat\", \"a7b9f7961e02e2a801f5031f39e6088b49f71dea\").splitlines()\n",
    "\n",
    "print(\"Directories affected: \")\n",
    "pprint.pprint((totalDirectoriesAffected[-1]))"
   ]
  },
  {
   "cell_type": "markdown",
   "metadata": {},
   "source": [
    "# Task ‘c’: How many total directories were affected in the fixing commit?\n"
   ]
  },
  {
   "cell_type": "code",
   "execution_count": 18,
   "metadata": {},
   "outputs": [
    {
     "name": "stdout",
     "output_type": "stream",
     "text": [
      "Directories affected: \n",
      "'25'\n"
     ]
    }
   ],
   "source": [
    "totalDirectoriesAffected = repo.git.show(\"--stat\", \"a7b9f7961e02e2a801f5031f39e6088b49f71dea\").splitlines()\n",
    "print(\"Directories affected: \")\n",
    "pprint.pprint(totalDirectoriesAffected[-1][1:3])\n",
    "#\"+totalDirectoriesAffected[6][0:33]+\" and \"+totalDirectoriesAffected[7][0:50])"
   ]
  },
  {
   "cell_type": "markdown",
   "metadata": {},
   "source": [
    "# Task 'd': How many total lines of code (including comments and blank lines) were deleted?\n"
   ]
  },
  {
   "cell_type": "code",
   "execution_count": 19,
   "metadata": {},
   "outputs": [
    {
     "name": "stdout",
     "output_type": "stream",
     "text": [
      "'Total lines DELETED including comments and blank lines: 2 deletions(-)'\n"
     ]
    }
   ],
   "source": [
    "totalLinesDeletedInc = repo.git.show(\"--stat\", \"a7b9f7961e02e2a801f5031f39e6088b49f71dea\").splitlines()\n",
    "\n",
    "pprint.pprint(\"Total lines DELETED including comments and blank lines: \"+totalLinesDeletedInc[:][-1][39:])"
   ]
  },
  {
   "cell_type": "markdown",
   "metadata": {},
   "source": [
    "# Task 'e': How many total lines of code (including comments and blank lines) were added?\n"
   ]
  },
  {
   "cell_type": "code",
   "execution_count": 20,
   "metadata": {
    "scrolled": true
   },
   "outputs": [
    {
     "name": "stdout",
     "output_type": "stream",
     "text": [
      "'Total lines ADDED including comments and blank lines: 4478 insertions(+)'\n"
     ]
    }
   ],
   "source": [
    "totalLinesAddedInc = repo.git.show(\"--stat\", \"a7b9f7961e02e2a801f5031f39e6088b49f71dea\").splitlines()\n",
    "\n",
    "pprint.pprint(\"Total lines ADDED including comments and blank lines: \"+totalLinesAddedInc[:][-1][19:37])"
   ]
  },
  {
   "cell_type": "markdown",
   "metadata": {},
   "source": [
    "# Task 'f': How many total lines of code (excluding comments and blank lines) were deleted?\n"
   ]
  },
  {
   "cell_type": "code",
   "execution_count": 21,
   "metadata": {},
   "outputs": [
    {
     "name": "stdout",
     "output_type": "stream",
     "text": [
      "Lines Deleted (excluding comments and blank lines): 0\n"
     ]
    }
   ],
   "source": [
    "def getSum():\n",
    "    getSum.bufferStore=0\n",
    "    for line in deletedLineShowData:\n",
    "        if re.compile('^-$|^-[^-]').match(line):\n",
    "            getSum.bufferStore = getSum.bufferStore+1\n",
    "            if re.compile('^[-|\\+]\\s*\\*').match(line):\n",
    "                getSum.bufferStore = getSum.bufferStore-1\n",
    "            if re.compile('^[-|\\+]\\s*\\/\\/').match(line):\n",
    "                getSum.bufferStore = getSum.bufferStore-1\n",
    "deletedLineShowData = repo.git.diff(\"--ignore-blank-lines\",previous, fixingCommit).splitlines()\n",
    "getSum()\n",
    "print(\"Lines Deleted (excluding comments and blank lines): %d\" %getSum.bufferStore)"
   ]
  },
  {
   "cell_type": "markdown",
   "metadata": {},
   "source": [
    "# Task 'g': How many total lines of code (excluding comments and blank lines) were added?\n"
   ]
  },
  {
   "cell_type": "code",
   "execution_count": 22,
   "metadata": {},
   "outputs": [
    {
     "name": "stdout",
     "output_type": "stream",
     "text": [
      "Lines Added (excluding comments and blank lines): 4195\n"
     ]
    }
   ],
   "source": [
    "def getDiff():\n",
    "    getDiff.bufferStore=0\n",
    "    for line in addLineShowData:\n",
    "        if re.compile('^\\+$|^\\+[^\\+]').match(line):\n",
    "            getDiff.bufferStore = getDiff.bufferStore+1\n",
    "            if re.compile('^[-|\\+]\\s*\\*').match(line):\n",
    "                getDiff.bufferStore = getDiff.bufferStore-1\n",
    "            if re.compile('^[-|\\+]\\s*\\/\\/').match(line):\n",
    "                getDiff.bufferStore = getDiff.bufferStore-1\n",
    "addLineShowData = repo.git.diff(\"--ignore-blank-lines\",previous, fixingCommit).splitlines()\n",
    "getDiff()\n",
    "print(\"Lines Added (excluding comments and blank lines): %d\" %getDiff.bufferStore)"
   ]
  },
  {
   "cell_type": "markdown",
   "metadata": {},
   "source": [
    "# Task ‘h’: How many days were between the current fixing commit and the previous commit of each affected file?\n"
   ]
  },
  {
   "cell_type": "code",
   "execution_count": 23,
   "metadata": {},
   "outputs": [],
   "source": [
    "# from datetime import datetime\n",
    "# from datetime import date\n",
    "# DateOfFixingCommit = repo.git.log(\"-1\" ,\"--format=\\\"%ai\\\"\", \"a7b9f7961e02e2a801f5031f39e6088b49f71dea\",\"--\",\"wicket-jquery-ui-plugins/src/main/java/com/googlecode/wicket/jquery/ui/plugins/wysiwyg/WysiwygEditor.java\").splitlines()\n",
    "# DateOfFixingCommit=DateOfFixingCommit[0][1:11]\n",
    "# DateOfPrevCommit = repo.git.log(\"-1\" ,\"--format=\\\"%ai\\\"\",\"-p\",\"a7b9f7961e02e2a801f5031f39e6088b49f71dea^\",\"--\",\"wicket-jquery-ui-plugins/src/main/java/com/googlecode/wicket/jquery/ui/plugins/wysiwyg/WysiwygEditor.java\").splitlines()\n",
    "# print(DateOfPrevCommit)\n",
    "# DateOfPrevCommit=DateOfPrevCommit[0][1:11]\n",
    "# DateOfPrevCommit= datetime.strptime(DateOfPrevCommit,\"%Y-%m-%d\")\n",
    "# DateOfFixingCommit= datetime.strptime(DateOfFixingCommit,\"%Y-%m-%d\")\n",
    "# Days=(DateOfFixingCommit-DateOfPrevCommit).days\n",
    "# print(Days, \"Days\")"
   ]
  },
  {
   "cell_type": "markdown",
   "metadata": {},
   "source": [
    "# Task ‘I’: How many time has each affected file of the current fixing commit been modified in the past since their creation (including rename of the file)?\n"
   ]
  },
  {
   "cell_type": "code",
   "execution_count": 24,
   "metadata": {},
   "outputs": [],
   "source": [
    "# Commits=repo.git.log(\"--follow\",\"a7b9f7961e02e2a801f5031f39e6088b49f71dea\",\"--\",\"wicket-jquery-ui-plugins/src/main/java/com/googlecode/wicket/jquery/ui/plugins/wysiwyg/WysiwygEditor.java\")\n",
    "# print(Commits.count('commit'))"
   ]
  },
  {
   "cell_type": "markdown",
   "metadata": {},
   "source": [
    "# Task ‘j’: Which developers have modified each affected file since its creation?\n"
   ]
  },
  {
   "cell_type": "code",
   "execution_count": 25,
   "metadata": {},
   "outputs": [
    {
     "name": "stdout",
     "output_type": "stream",
     "text": [
      "Author: Maxim Solodovnik\n",
      "Author: Sebastien\n",
      "Author: Martin Tzvetanov Grigorov\n",
      "Author: Sebastien\n",
      "Author: sbriquet\n",
      "Author: Sebastien Briquet\n",
      "Author: Maxim Solodovnik\n",
      "Author: Sebastien\n",
      "Author: sbriquet\n",
      "Author: Sebastien Briquet\n",
      "Author: Maxim Solodovnik\n",
      "Author: Sebastien\n",
      "Author: Sebastien\n",
      "Author: sbriquet\n",
      "Author: Sebastien Briquet\n",
      "Author: Sebastien\n",
      "Author: Sebastien Briquet\n",
      "Author: Sebastien\n",
      "Author: Sebastien\n",
      "Author: Sebastien\n",
      "Author: Sebastien Briquet\n",
      "Author: Sebastien\n",
      "Author: Sebastien\n",
      "Author: Sebastien\n",
      "Author: Sebastien\n",
      "Author: Sebastien\n",
      "Author: Sebastien\n",
      "Author: Sebastien\n",
      "Author: Sebastien\n",
      "Author: Sebastien\n",
      "Author: sbriquet\n",
      "Author: Martin Tzvetanov Grigorov\n",
      "Author: Sebastien Briquet\n",
      "Author: sbriquet\n",
      "Author: Martin Tzvetanov Grigorov\n",
      "Author: JavaLuigi\n",
      "Author: Sebastien\n",
      "Author: Sebastien Briquet\n",
      "Author: Sebastien\n",
      "Author: Maxim Solodovnik\n",
      "Author: Sebastien Briquet\n",
      "Author: Maxim Solodovnik\n",
      "Author: Sebastien\n",
      "Author: Sebastien Briquet\n",
      "Author: sbriquet\n",
      "Author: Martin Tzvetanov Grigorov\n",
      "Author: JavaLuigi\n",
      "Author: Sebastien\n",
      "Author: Sebastien Briquet\n",
      "Author: Sebastien\n",
      "Author: Sebastien Briquet\n",
      "Author: Sebastien\n",
      "Author: Sebastien Briquet\n",
      "Author: Sebastien\n",
      "Author: Sebastien Briquet\n"
     ]
    }
   ],
   "source": [
    "fileShowData = repo.git.diff( \"--name-only\", fixingCommit, previous).splitlines()\n",
    "count = 0\n",
    "for line in repo.git.diff(\"--name-only\", fixingCommit, previous).splitlines():\n",
    "    authorData = repo.git.log(\"--follow\", \"--pretty=%aN\", \"--\", line).splitlines()\n",
    "    for author in set(authorData):\n",
    "        print(\"Author: %s\" %author)\n",
    "        count = count + 1;\n",
    "avg = count / len(fileShowData)"
   ]
  },
  {
   "attachments": {},
   "cell_type": "markdown",
   "metadata": {},
   "source": [
    "# Task ‘k’:  \tFor each developer identified, how many commits have each of them submitted? \n"
   ]
  },
  {
   "cell_type": "code",
   "execution_count": 26,
   "metadata": {},
   "outputs": [
    {
     "name": "stdout",
     "output_type": "stream",
     "text": [
      " Maxim Solodovnik: 24\n",
      " sbriquet: 162\n",
      " Martin Tzvetanov Grigorov: 62\n",
      " JavaLuigi: 9\n",
      " Sebastien: 961\n",
      " Sebastien Briquet: 487\n"
     ]
    }
   ],
   "source": [
    "allAuthors = []\n",
    "count = 0\n",
    "for line in repo.git.diff(\"--name-only\", fixingCommit, previous).splitlines():\n",
    "    allAuthors += repo.git.log(\"--follow\", \"--pretty=%aN\", \"--\", line).splitlines()\n",
    "allAuthors = list(set(allAuthors))\n",
    "log = repo.git.log(\"--pretty=%aN\")\n",
    "for author in allAuthors:\n",
    "    count = count + 1\n",
    "    print(\" %s: %d\" %(author, len(re.findall(author, log))))"
   ]
  },
  {
   "cell_type": "markdown",
   "metadata": {},
   "source": [
    "# END OF CVE-2017-15719\n",
    "# --------------------------"
   ]
  },
  {
   "cell_type": "markdown",
   "metadata": {},
   "source": [
    "# 1.    CVE-ID - CVE-2018-1337\n",
    "# 2.\tProject Link: https://github.com/apache/directory-ldap-api\n",
    "# 3.\tProvided Fixing Commit - 075b70a733d7af150b3d85684149ff5f029f7fd\n",
    "\n",
    "\n"
   ]
  },
  {
   "cell_type": "code",
   "execution_count": 27,
   "metadata": {},
   "outputs": [],
   "source": [
    "import numpy as np\n",
    "import pandas as pd\n",
    "import os\n",
    "\n",
    "# Specify git executable file for GitPython in Jupyter Notebook (In IDE, it can still work without this line.)\n",
    "os.environ[\"GIT_PYTHON_REFRESH\"] = \"quiet\"\n",
    "\n",
    "import git\n",
    "from git import RemoteProgress\n",
    "\n",
    "from git import Repo\n",
    "import matplotlib.pyplot as plt\n",
    "import seaborn as sns\n",
    "%matplotlib inline"
   ]
  },
  {
   "cell_type": "code",
   "execution_count": 28,
   "metadata": {},
   "outputs": [],
   "source": [
    "repo = Repo(\"directory-ldap-api/\")\n",
    "fixingCommit=\"075b70a733d7af150b3d85684149ff5f029f7fd\"\n",
    "previous = fixingCommit + '^'"
   ]
  },
  {
   "cell_type": "markdown",
   "metadata": {},
   "source": [
    "# Task ‘a’: What was the message and title of the fixing commit? Was there any mention of fixing a bug or vulnerability?\n"
   ]
  },
  {
   "cell_type": "code",
   "execution_count": 29,
   "metadata": {},
   "outputs": [
    {
     "name": "stdout",
     "output_type": "stream",
     "text": [
      "'    Fixed some race condition in LdapConnection when using SSL'\n"
     ]
    }
   ],
   "source": [
    "import pprint as pprint\n",
    "show_data = repo.git.show(\"-s\", fixingCommit).splitlines()\n",
    "pprint.pprint(show_data[4])"
   ]
  },
  {
   "cell_type": "markdown",
   "metadata": {},
   "source": [
    "# Task ‘b’: How many total files were affected in the fixing commit?\n"
   ]
  },
  {
   "cell_type": "code",
   "execution_count": 30,
   "metadata": {},
   "outputs": [
    {
     "name": "stdout",
     "output_type": "stream",
     "text": [
      "' 1 file changed, 43 insertions(+), 36 deletions(-)'\n"
     ]
    }
   ],
   "source": [
    "import pprint as pprint\n",
    "totalFilesAffected = repo.git.show(\"--stat\", \"075b70a733d7af150b3d85684149ff5f029f7fd\").splitlines()\n",
    "\n",
    "pprint.pprint(totalFilesAffected[7])"
   ]
  },
  {
   "cell_type": "markdown",
   "metadata": {},
   "source": [
    "# Task ‘c’: How many total directories were affected in the fixing commit?\n"
   ]
  },
  {
   "cell_type": "code",
   "execution_count": 31,
   "metadata": {},
   "outputs": [
    {
     "name": "stdout",
     "output_type": "stream",
     "text": [
      "'Directories affected: 1'\n"
     ]
    }
   ],
   "source": [
    "totalDirectoriesAffected = repo.git.show(\"--stat\", \"075b70a733d7af150b3d85684149ff5f029f7fd\").splitlines()\n",
    "\n",
    "pprint.pprint(\"Directories affected: \"+totalDirectoriesAffected[-1][1])"
   ]
  },
  {
   "cell_type": "markdown",
   "metadata": {},
   "source": [
    "# Task 'd': How many total lines of code (including comments and blank lines) were deleted?\n"
   ]
  },
  {
   "cell_type": "code",
   "execution_count": 32,
   "metadata": {},
   "outputs": [
    {
     "name": "stdout",
     "output_type": "stream",
     "text": [
      "'Total lines DELETED including comments and blank lines: , 36 deletions(-)'\n"
     ]
    }
   ],
   "source": [
    "totalLinesDeletedInc = repo.git.show(\"--stat\", \"075b70a733d7af150b3d85684149ff5f029f7fd\").splitlines()\n",
    "\n",
    "pprint.pprint(\"Total lines DELETED including comments and blank lines: \"+totalLinesDeletedInc[7][33:51])"
   ]
  },
  {
   "cell_type": "markdown",
   "metadata": {},
   "source": [
    "# Task 'e': How many total lines of code (including comments and blank lines) were added?\n"
   ]
  },
  {
   "cell_type": "code",
   "execution_count": 33,
   "metadata": {
    "scrolled": true
   },
   "outputs": [
    {
     "name": "stdout",
     "output_type": "stream",
     "text": [
      "'Total lines ADDED including comments and blank lines: 43 insertions'\n"
     ]
    }
   ],
   "source": [
    "totalLinesAddedInc = repo.git.show(\"--stat\", \"075b70a733d7af150b3d85684149ff5f029f7fd\").splitlines()\n",
    "\n",
    "pprint.pprint(\"Total lines ADDED including comments and blank lines: \"+totalLinesAddedInc[7][17:30])"
   ]
  },
  {
   "cell_type": "markdown",
   "metadata": {},
   "source": [
    "# Task 'f': How many total lines of code (excluding comments and blank lines) were deleted?\n"
   ]
  },
  {
   "cell_type": "code",
   "execution_count": 34,
   "metadata": {},
   "outputs": [
    {
     "name": "stdout",
     "output_type": "stream",
     "text": [
      "Lines Deleted (excluding comments and blank lines): 30\n"
     ]
    }
   ],
   "source": [
    "def getSum():\n",
    "    getSum.bufferStore=0\n",
    "    for line in deletedLineShowData:\n",
    "        if re.compile('^-$|^-[^-]').match(line):\n",
    "            getSum.bufferStore = getSum.bufferStore+1\n",
    "            if re.compile('^[-|\\+]\\s*\\*').match(line):\n",
    "                getSum.bufferStore = getSum.bufferStore-1\n",
    "            if re.compile('^[-|\\+]\\s*\\/\\/').match(line):\n",
    "                getSum.bufferStore = getSum.bufferStore-1\n",
    "deletedLineShowData = repo.git.diff(\"--ignore-blank-lines\",previous, fixingCommit).splitlines()\n",
    "getSum()\n",
    "print(\"Lines Deleted (excluding comments and blank lines): %d\" %getSum.bufferStore)"
   ]
  },
  {
   "cell_type": "markdown",
   "metadata": {},
   "source": [
    "# Task 'g': How many total lines of code (excluding comments and blank lines) were added?\n"
   ]
  },
  {
   "cell_type": "code",
   "execution_count": 35,
   "metadata": {},
   "outputs": [
    {
     "name": "stdout",
     "output_type": "stream",
     "text": [
      "Lines Added (excluding comments and blank lines): 39\n"
     ]
    }
   ],
   "source": [
    "def getDiff():\n",
    "    getDiff.bufferStore=0\n",
    "    for line in addLineShowData:\n",
    "        if re.compile('^\\+$|^\\+[^\\+]').match(line):\n",
    "            getDiff.bufferStore = getDiff.bufferStore+1\n",
    "            if re.compile('^[-|\\+]\\s*\\*').match(line):\n",
    "                getDiff.bufferStore = getDiff.bufferStore-1\n",
    "            if re.compile('^[-|\\+]\\s*\\/\\/').match(line):\n",
    "                getDiff.bufferStore = getDiff.bufferStore-1\n",
    "addLineShowData = repo.git.diff(\"--ignore-blank-lines\",previous, fixingCommit).splitlines()\n",
    "getDiff()\n",
    "print(\"Lines Added (excluding comments and blank lines): %d\" %getDiff.bufferStore)"
   ]
  },
  {
   "cell_type": "markdown",
   "metadata": {},
   "source": [
    "# Task ‘h’: How many days were between the current fixing commit and the previous commit of each affected file?\n"
   ]
  },
  {
   "cell_type": "code",
   "execution_count": 36,
   "metadata": {},
   "outputs": [],
   "source": [
    "# from datetime import datetime\n",
    "# from datetime import date\n",
    "# DateOfFixingCommit = repo.git.log(\"-1\" ,\"--format=\\\"%ai\\\"\", \"075b70a733d7af150b3d85684149ff5f029f7fd\",\"--\",\"ldap/client/api/src/main/java/org/apache/directory/ldap/client/api/LdapNetworkConnection.java\").splitlines()\n",
    "# DateOfFixingCommit=DateOfFixingCommit[0][1:11]\n",
    "# DateOfPrevCommit = repo.git.log(\"-1\" ,\"--format=\\\"%ai\\\"\",\"-p\",\"075b70a733d7af150b3d85684149ff5f029f7fd^\",\"--\",\"ldap/client/api/src/main/java/org/apache/directory/ldap/client/api/LdapNetworkConnection.java\").splitlines()\n",
    "# DateOfPrevCommit=DateOfPrevCommit[0][1:11]\n",
    "# DateOfPrevCommit= datetime.strptime(DateOfPrevCommit,\"%Y-%m-%d\")\n",
    "# DateOfFixingCommit= datetime.strptime(DateOfFixingCommit,\"%Y-%m-%d\")\n",
    "# Days=(DateOfFixingCommit-DateOfPrevCommit).days\n",
    "# print(Days,\"Days\")"
   ]
  },
  {
   "cell_type": "markdown",
   "metadata": {},
   "source": [
    "# Task ‘I’: How many time has each affected file of the current fixing commit been modified in the past since their creation (including rename of the file)?\n"
   ]
  },
  {
   "cell_type": "code",
   "execution_count": 37,
   "metadata": {},
   "outputs": [],
   "source": [
    "# Commits=repo.git.log(\"--follow\",\"075b70a733d7af150b3d85684149ff5f029f7fd\",\"--\",\"ldap/client/api/src/main/java/org/apache/directory/ldap/client/api/LdapNetworkConnection.java\")\n",
    "# print(Commits.count('commit'))"
   ]
  },
  {
   "cell_type": "markdown",
   "metadata": {},
   "source": [
    "# Task ‘j’: Which developers have modified each affected file since its creation?\n"
   ]
  },
  {
   "cell_type": "code",
   "execution_count": 38,
   "metadata": {},
   "outputs": [
    {
     "name": "stdout",
     "output_type": "stream",
     "text": [
      "Author: Felix Knecht\n",
      "Author: emmanuel lecharny\n",
      "Author: Emmanuel Lecharny\n",
      "Author: elecharny\n",
      "Author: Stefan Seelmann\n",
      "Author: Kiran Ayyagari\n",
      "Author: Colm O hEigeartaigh\n",
      "Author: Alex Karasulu\n",
      "Author: Lucas Theisen\n",
      "Author: Radovan Semancik\n",
      "Author: Pierre-Arnaud Marcelot\n",
      "Author: Emmanuel Lécharny\n"
     ]
    }
   ],
   "source": [
    "fileShowData = repo.git.diff( \"--name-only\", fixingCommit, previous).splitlines()\n",
    "count = 0\n",
    "for line in repo.git.diff(\"--name-only\", fixingCommit, previous).splitlines():\n",
    "    authorData = repo.git.log(\"--follow\", \"--pretty=%aN\", \"--\", line).splitlines()\n",
    "    for author in set(authorData):\n",
    "        print(\"Author: %s\" %author)\n",
    "        count = count + 1;\n",
    "avg = count / len(fileShowData)"
   ]
  },
  {
   "attachments": {},
   "cell_type": "markdown",
   "metadata": {},
   "source": [
    "# Task ‘k’:  \tFor each developer identified, how many commits have each of them submitted? \n"
   ]
  },
  {
   "cell_type": "code",
   "execution_count": 39,
   "metadata": {},
   "outputs": [
    {
     "name": "stdout",
     "output_type": "stream",
     "text": [
      " Felix Knecht: 202\n",
      " emmanuel lecharny: 60\n",
      " Emmanuel Lecharny: 2852\n",
      " elecharny: 25\n",
      " Stefan Seelmann: 346\n",
      " Kiran Ayyagari: 258\n",
      " Colm O hEigeartaigh: 13\n",
      " Alex Karasulu: 1000\n",
      " Lucas Theisen: 27\n",
      " Radovan Semancik: 20\n",
      " Pierre-Arnaud Marcelot: 263\n",
      " Emmanuel Lécharny: 629\n"
     ]
    }
   ],
   "source": [
    "allAuthors = []\n",
    "count = 0\n",
    "for line in repo.git.diff(\"--name-only\", fixingCommit, previous).splitlines():\n",
    "    allAuthors += repo.git.log(\"--follow\", \"--pretty=%aN\", \"--\", line).splitlines()\n",
    "allAuthors = list(set(allAuthors))\n",
    "log = repo.git.log(\"--pretty=%aN\")\n",
    "for author in allAuthors:\n",
    "    count = count + 1\n",
    "    print(\" %s: %d\" %(author, len(re.findall(author, log))))"
   ]
  },
  {
   "cell_type": "markdown",
   "metadata": {},
   "source": [
    "# END OF CVE-2018-1337\n",
    "# --------------------------"
   ]
  },
  {
   "cell_type": "code",
   "execution_count": null,
   "metadata": {},
   "outputs": [],
   "source": []
  }
 ],
 "metadata": {
  "kernelspec": {
   "display_name": "Python 3",
   "language": "python",
   "name": "python3"
  },
  "language_info": {
   "codemirror_mode": {
    "name": "ipython",
    "version": 3
   },
   "file_extension": ".py",
   "mimetype": "text/x-python",
   "name": "python",
   "nbconvert_exporter": "python",
   "pygments_lexer": "ipython3",
   "version": "3.7.4"
  }
 },
 "nbformat": 4,
 "nbformat_minor": 2
}
